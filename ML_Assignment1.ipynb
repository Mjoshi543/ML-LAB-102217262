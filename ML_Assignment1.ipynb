{
  "nbformat": 4,
  "nbformat_minor": 0,
  "metadata": {
    "colab": {
      "provenance": [],
      "mount_file_id": "1PnDa23AIFv7IySJdx5suZwy0O7-LWvfi",
      "authorship_tag": "ABX9TyPVuqciffuIL4KOJEMtS6Oz",
      "include_colab_link": true
    },
    "kernelspec": {
      "name": "python3",
      "display_name": "Python 3"
    },
    "language_info": {
      "name": "python"
    }
  },
  "cells": [
    {
      "cell_type": "markdown",
      "metadata": {
        "id": "view-in-github",
        "colab_type": "text"
      },
      "source": [
        "<a href=\"https://colab.research.google.com/github/Mjoshi543/ML-LAB-102217262/blob/main/ML_Assignment1.ipynb\" target=\"_parent\"><img src=\"https://colab.research.google.com/assets/colab-badge.svg\" alt=\"Open In Colab\"/></a>"
      ]
    },
    {
      "cell_type": "markdown",
      "source": [
        "## Q1: Questions on Basic NumPy Array"
      ],
      "metadata": {
        "id": "J9fzbmuAuv2k"
      }
    },
    {
      "cell_type": "markdown",
      "source": [
        "a) Reverse the NumPy array: arr = np.array([1, 2, 3, 6, 4, 5])"
      ],
      "metadata": {
        "id": "IDrR_d_Uu_Kh"
      }
    },
    {
      "cell_type": "code",
      "source": [
        "import numpy as np"
      ],
      "metadata": {
        "id": "FUo8octXlUAs"
      },
      "execution_count": null,
      "outputs": []
    },
    {
      "cell_type": "code",
      "execution_count": null,
      "metadata": {
        "colab": {
          "base_uri": "https://localhost:8080/"
        },
        "id": "xM_zj4y6jaQj",
        "outputId": "4b2ad76b-bfc8-4f59-a3e0-5180a95e8bf3"
      },
      "outputs": [
        {
          "output_type": "stream",
          "name": "stdout",
          "text": [
            "[1 2 3 4 5 6]\n",
            "[6 5 4 3 2 1]\n"
          ]
        }
      ],
      "source": [
        "\n",
        "arr=np.array([1,2,3,4,5,6])\n",
        "print(arr)\n",
        "print(np.flip(arr))"
      ]
    },
    {
      "cell_type": "markdown",
      "source": [
        "b)Flatten the NumPy arr: array1 = np.array([[1, 2, 3], [2, 4, 5], [1, 2, 3]]) using any two NumPy in-built methods\n"
      ],
      "metadata": {
        "id": "VVQEntcBvLUF"
      }
    },
    {
      "cell_type": "code",
      "source": [
        "arr1=np.array([[1,2,3],[2,4,5],[1,2,3]])\n",
        "print(arr1.flatten())\n",
        "print(np.ravel(arr1))"
      ],
      "metadata": {
        "colab": {
          "base_uri": "https://localhost:8080/"
        },
        "id": "cDD_YxLxlTDO",
        "outputId": "98fe0904-4041-4e2b-eb26-dd1e453019d6"
      },
      "execution_count": null,
      "outputs": [
        {
          "output_type": "stream",
          "name": "stdout",
          "text": [
            "[1 2 3 2 4 5 1 2 3]\n",
            "[1 2 3 2 4 5 1 2 3]\n"
          ]
        }
      ]
    },
    {
      "cell_type": "markdown",
      "source": [
        "(c) Compare the following numpy arrays:\n",
        "arr1 = np.array([[1, 2], [3, 4]])\n",
        "arr2 = np.array([[1, 2], [3, 4]])\n"
      ],
      "metadata": {
        "id": "BxJQRKPpvlvH"
      }
    },
    {
      "cell_type": "code",
      "source": [
        "arr2=np.array([[1,2],[3,4]])\n",
        "arr3=np.array([[1,2],[3,4]])\n",
        "comparision=arr2==arr3\n",
        "equal_arrays=comparision.all()\n",
        "print(equal_arrays)"
      ],
      "metadata": {
        "colab": {
          "base_uri": "https://localhost:8080/"
        },
        "id": "A5G0r9LPk40h",
        "outputId": "5f9e1cb7-e9c2-4bf0-d644-10d697d1f742"
      },
      "execution_count": null,
      "outputs": [
        {
          "output_type": "stream",
          "name": "stdout",
          "text": [
            "True\n"
          ]
        }
      ]
    },
    {
      "cell_type": "markdown",
      "source": [
        "(d) Find the most frequent value and their indice(s) in the following arrays:\n",
        "i. x = np.array([1,2,3,4,5,1,2,1,1,1])\n",
        "ii. y = np.array([1, 1, 1, 2, 3, 4, 2, 4, 3, 3, ])"
      ],
      "metadata": {
        "id": "QWbPQMssvvnn"
      }
    },
    {
      "cell_type": "code",
      "source": [
        "x=np.array([1,2,3,4,5,1,2,1,1,1])\n",
        "print(x)\n",
        "a=np.bincount(x).argmax()\n",
        "print(a)\n",
        "print(np.where(x==a))\n",
        "\n",
        "y=np.array([1,1,1,2,3,4,2,4,3,3])\n",
        "b=np.bincount(y).argmax()\n",
        "print(y)\n",
        "print(b)\n",
        "print(np.where(y==b))\n"
      ],
      "metadata": {
        "colab": {
          "base_uri": "https://localhost:8080/"
        },
        "id": "GRMNYN6hnAn7",
        "outputId": "9afb144c-93a7-42bd-aa41-1f4e9e68af18"
      },
      "execution_count": null,
      "outputs": [
        {
          "output_type": "stream",
          "name": "stdout",
          "text": [
            "[1 2 3 4 5 1 2 1 1 1]\n",
            "1\n",
            "(array([0, 5, 7, 8, 9]),)\n",
            "[1 1 1 2 3 4 2 4 3 3]\n",
            "1\n",
            "(array([0, 1, 2]),)\n"
          ]
        }
      ]
    },
    {
      "cell_type": "markdown",
      "source": [
        "(e) For the array gfg = np.matrix('[4, 1, 9; 12, 3, 1; 4, 5, 6]'), find\n",
        "i. Sum of all elements\n",
        "ii. Sum of all elements row-wise\n",
        "iii. Sum of all elements column-wise"
      ],
      "metadata": {
        "id": "otgg3ec0v2ny"
      }
    },
    {
      "cell_type": "code",
      "source": [
        "gfg=np.matrix('[4,1,9;12,3,1;4,5,6]')\n",
        "print(np.sum(gfg))\n",
        "\n",
        "\n",
        "print(np.sum(gfg, axis=0))\n",
        "\n",
        "\n",
        "print(np.sum(gfg, axis=1))"
      ],
      "metadata": {
        "colab": {
          "base_uri": "https://localhost:8080/"
        },
        "id": "QmjEr61Gqca7",
        "outputId": "5bba1a2e-eb39-4f01-e963-66cb862298c8"
      },
      "execution_count": null,
      "outputs": [
        {
          "output_type": "stream",
          "name": "stdout",
          "text": [
            "45\n",
            "[[20  9 16]]\n",
            "[[14]\n",
            " [16]\n",
            " [15]]\n"
          ]
        }
      ]
    },
    {
      "cell_type": "markdown",
      "source": [
        "(f) For the matrix: n_array = np.array([[55, 25, 15],[30, 44, 2],[11, 45, 77]]), find\n",
        "i. Sum of diagonal elements\n",
        "ii. Eigen values of matrix\n",
        "iii. Eigen vectors of matrix\n",
        "iv. Inverse of matrix\n",
        "v. Determinant of matrix\n"
      ],
      "metadata": {
        "id": "paGzgNCdv9eX"
      }
    },
    {
      "cell_type": "code",
      "source": [
        "n_array=np.array([[55,25,15],[30,44,2],[11,45,77]])\n",
        "print(np.trace(n_array))\n",
        "#or\n",
        "print(np.sum(np.diagonal(n_array)))\n",
        "#Eigen values and eigen vectors\n",
        "w,v=np.linalg.eig(n_array)\n",
        "print(\"Eigen Values=\\n\", w)\n",
        "print(\"Eigen Vectors=\\n\", v)\n",
        "print(\"\\n\")\n",
        "#inverse\n",
        "print(np.linalg.inv(n_array))\n",
        "print(\"\\n\")\n",
        "#Determinant\n",
        "print(np.linalg.det(n_array))"
      ],
      "metadata": {
        "colab": {
          "base_uri": "https://localhost:8080/"
        },
        "id": "iDFFNaVUrgfC",
        "outputId": "731652c2-b68b-4ed8-e6ab-9187ef1dcffe"
      },
      "execution_count": null,
      "outputs": [
        {
          "output_type": "stream",
          "name": "stdout",
          "text": [
            "176\n",
            "176\n",
            "Eigen Values=\n",
            " [98.16835147 28.097044   49.73460452]\n",
            "Eigen Vectors=\n",
            " [[ 0.4574917   0.34637121 -0.15017693]\n",
            " [ 0.28447814 -0.72784061 -0.4852124 ]\n",
            " [ 0.84248058  0.59184038  0.8614034 ]]\n",
            "\n",
            "\n",
            "[[ 0.02404141 -0.00911212 -0.00444671]\n",
            " [-0.01667882  0.02966905  0.0024785 ]\n",
            " [ 0.00631287 -0.01603732  0.01217379]]\n",
            "\n",
            "\n",
            "137180.0000000001\n"
          ]
        }
      ]
    },
    {
      "cell_type": "markdown",
      "source": [
        "(g) Multiply the following matrices and also find covariance between matrices using NumPy:\n",
        "i. p = [[1, 2], [2, 3]]\n",
        "q = [[4, 5], [6, 7]]\n",
        "ii. p = [[1, 2], [2, 3], [4, 5]]\n",
        "q = [[4, 5, 1], [6, 7, 2]]\n"
      ],
      "metadata": {
        "id": "wC-vUK_NwFDS"
      }
    },
    {
      "cell_type": "code",
      "source": [
        "p=np.array([[1,2],[3,4]])\n",
        "q=np.array([[5,6],[7,8]])\n",
        "c=np.dot(p,q)\n",
        "print(c)\n",
        "print(np.cov(p,q))\n",
        "print(\"\\n\")\n",
        "\n",
        "p1=np.array([[1,2],[2,3],[4,5]])\n",
        "q1=np.array([[4,5,1],[6,7,2]])\n",
        "c1=np.dot(p1,q1)\n",
        "print(c1)\n",
        "print(np.cov(c1))\n"
      ],
      "metadata": {
        "colab": {
          "base_uri": "https://localhost:8080/"
        },
        "id": "KGoe3McytZ_b",
        "outputId": "50d5ef0d-d216-4337-daa7-b29eef49e4f8"
      },
      "execution_count": null,
      "outputs": [
        {
          "output_type": "stream",
          "name": "stdout",
          "text": [
            "[[19 22]\n",
            " [43 50]]\n",
            "[[0.5 0.5 0.5 0.5]\n",
            " [0.5 0.5 0.5 0.5]\n",
            " [0.5 0.5 0.5 0.5]\n",
            " [0.5 0.5 0.5 0.5]]\n",
            "\n",
            "\n",
            "[[16 19  5]\n",
            " [26 31  8]\n",
            " [46 55 14]]\n",
            "[[ 54.33333333  89.16666667 158.83333333]\n",
            " [ 89.16666667 146.33333333 260.66666667]\n",
            " [158.83333333 260.66666667 464.33333333]]\n"
          ]
        }
      ]
    },
    {
      "cell_type": "markdown",
      "source": [
        "(h) For the matrices: x = np.array([[2, 3, 4], [3, 2, 9]]); y = np.array([[1, 5, 0], [5, 10, 3]]),\n",
        "find inner, outer and cartesian product?\n"
      ],
      "metadata": {
        "id": "rWB_vP8BwLpq"
      }
    },
    {
      "cell_type": "code",
      "source": [
        "x=np.array([[2,3,4],[3,2,9]])\n",
        "y=np.array([[1,5,0],[5,10,3]])\n",
        "print(\"\\n\")\n",
        "print(np.inner(x,y))\n",
        "print(\"\\n\")\n",
        "print(np.outer(x,y))\n",
        "print(\"\\n\")\n",
        "p=x.flatten()\n",
        "q=y.flatten()\n",
        "result = np.transpose([np.tile(p, len(q)), np.repeat(q, len(p))])\n",
        "print(result)\n"
      ],
      "metadata": {
        "colab": {
          "base_uri": "https://localhost:8080/"
        },
        "id": "cYuAb8pqvsY0",
        "outputId": "3a11b279-38b8-40a3-d15b-a56eb6b18f07"
      },
      "execution_count": null,
      "outputs": [
        {
          "output_type": "stream",
          "name": "stdout",
          "text": [
            "\n",
            "\n",
            "[[17 52]\n",
            " [13 62]]\n",
            "\n",
            "\n",
            "[[ 2 10  0 10 20  6]\n",
            " [ 3 15  0 15 30  9]\n",
            " [ 4 20  0 20 40 12]\n",
            " [ 3 15  0 15 30  9]\n",
            " [ 2 10  0 10 20  6]\n",
            " [ 9 45  0 45 90 27]]\n",
            "\n",
            "\n",
            "[[ 2  1]\n",
            " [ 3  1]\n",
            " [ 4  1]\n",
            " [ 3  1]\n",
            " [ 2  1]\n",
            " [ 9  1]\n",
            " [ 2  5]\n",
            " [ 3  5]\n",
            " [ 4  5]\n",
            " [ 3  5]\n",
            " [ 2  5]\n",
            " [ 9  5]\n",
            " [ 2  0]\n",
            " [ 3  0]\n",
            " [ 4  0]\n",
            " [ 3  0]\n",
            " [ 2  0]\n",
            " [ 9  0]\n",
            " [ 2  5]\n",
            " [ 3  5]\n",
            " [ 4  5]\n",
            " [ 3  5]\n",
            " [ 2  5]\n",
            " [ 9  5]\n",
            " [ 2 10]\n",
            " [ 3 10]\n",
            " [ 4 10]\n",
            " [ 3 10]\n",
            " [ 2 10]\n",
            " [ 9 10]\n",
            " [ 2  3]\n",
            " [ 3  3]\n",
            " [ 4  3]\n",
            " [ 3  3]\n",
            " [ 2  3]\n",
            " [ 9  3]]\n"
          ]
        }
      ]
    },
    {
      "cell_type": "markdown",
      "source": [],
      "metadata": {
        "id": "H0kkn9K7ypLO"
      }
    },
    {
      "cell_type": "markdown",
      "source": [],
      "metadata": {
        "id": "O1H8BMXwyplj"
      }
    },
    {
      "cell_type": "markdown",
      "source": [
        "## Q2: Based on NumPy Mathematics and Statistics\n"
      ],
      "metadata": {
        "id": "DMvxo5VxwQ-9"
      }
    },
    {
      "cell_type": "markdown",
      "source": [
        "(a) For the array: array = np.array([[1, -2, 3],[-4, 5, -6]])\n",
        "i. Find element-wise absolute value\n",
        "ii. Find the 25th, 50th, and 75th percentile of flattened array, for each column, for each\n",
        "row.\n",
        "iii. Mean, Median and Standard Deviation of flattened array, of each column, and\n",
        "each row"
      ],
      "metadata": {
        "id": "an-_dyt5wXGn"
      }
    },
    {
      "cell_type": "code",
      "source": [
        "array = np.array([[1, -2, 3], [-4, 5, -6]])\n",
        "\n",
        "# (i) Element-wise absolute value\n",
        "abs_array = np.abs(array)\n",
        "print(\"Element-wise absolute value:\")\n",
        "print(abs_array)\n",
        "\n",
        "# Flattened array\n",
        "flattened_array = array.flatten()\n",
        "\n",
        "# (ii) Percentiles\n",
        "percentiles_flattened = {\n",
        "    '25th': np.percentile(flattened_array, 25),\n",
        "    '50th (Median)': np.percentile(flattened_array, 50),\n",
        "    '75th': np.percentile(flattened_array, 75)\n",
        "}\n",
        "print(\"Percentiles of flattened array:\")\n",
        "print(percentiles_flattened)\n",
        "\n",
        "percentiles_columns = {\n",
        "    '25th': np.percentile(array, 25, axis=0),\n",
        "    '50th (Median)': np.percentile(array, 50, axis=0),\n",
        "    '75th': np.percentile(array, 75, axis=0)\n",
        "}\n",
        "print(\"Percentiles for each column:\")\n",
        "print(percentiles_columns)\n",
        "\n",
        "percentiles_rows = {\n",
        "    '25th': np.percentile(array, 25, axis=1),\n",
        "    '50th (Median)': np.percentile(array, 50, axis=1),\n",
        "    '75th': np.percentile(array, 75, axis=1)\n",
        "}\n",
        "print(\"Percentiles for each row:\")\n",
        "print(percentiles_rows)\n",
        "\n",
        "# (iii) Mean, Median, and Standard Deviation\n",
        "mean_flattened = np.mean(flattened_array)\n",
        "median_flattened = np.median(flattened_array)\n",
        "std_dev_flattened = np.std(flattened_array)\n",
        "\n",
        "print(\"Flattened array statistics:\")\n",
        "print(f\"Mean: {mean_flattened}\")\n",
        "print(f\"Median: {median_flattened}\")\n",
        "print(f\"Standard Deviation: {std_dev_flattened}\")\n",
        "\n",
        "mean_columns = np.mean(array, axis=0)\n",
        "median_columns = np.median(array, axis=0)\n",
        "std_dev_columns = np.std(array, axis=0)\n",
        "\n",
        "print(\"Statistics for each column:\")\n",
        "print(f\"Mean: {mean_columns}\")\n",
        "print(f\"Median: {median_columns}\")\n",
        "print(f\"Standard Deviation: {std_dev_columns}\")\n",
        "\n",
        "mean_rows = np.mean(array, axis=1)\n",
        "median_rows = np.median(array, axis=1)\n",
        "std_dev_rows = np.std(array, axis=1)\n",
        "\n",
        "print(\"Statistics for each row:\")\n",
        "print(f\"Mean: {mean_rows}\")\n",
        "print(f\"Median: {median_rows}\")\n",
        "print(f\"Standard Deviation: {std_dev_rows}\")\n"
      ],
      "metadata": {
        "id": "uUVNvdmEyqLb",
        "colab": {
          "base_uri": "https://localhost:8080/"
        },
        "outputId": "fa590364-ebae-4641-8573-fc27d6729487"
      },
      "execution_count": null,
      "outputs": [
        {
          "output_type": "stream",
          "name": "stdout",
          "text": [
            "Element-wise absolute value:\n",
            "[[1 2 3]\n",
            " [4 5 6]]\n",
            "Percentiles of flattened array:\n",
            "{'25th': -3.5, '50th (Median)': -0.5, '75th': 2.5}\n",
            "Percentiles for each column:\n",
            "{'25th': array([-2.75, -0.25, -3.75]), '50th (Median)': array([-1.5,  1.5, -1.5]), '75th': array([-0.25,  3.25,  0.75])}\n",
            "Percentiles for each row:\n",
            "{'25th': array([-0.5, -5. ]), '50th (Median)': array([ 1., -4.]), '75th': array([2. , 0.5])}\n",
            "Flattened array statistics:\n",
            "Mean: -0.5\n",
            "Median: -0.5\n",
            "Standard Deviation: 3.8622100754188224\n",
            "Statistics for each column:\n",
            "Mean: [-1.5  1.5 -1.5]\n",
            "Median: [-1.5  1.5 -1.5]\n",
            "Standard Deviation: [2.5 3.5 4.5]\n",
            "Statistics for each row:\n",
            "Mean: [ 0.66666667 -1.66666667]\n",
            "Median: [ 1. -4.]\n",
            "Standard Deviation: [2.05480467 4.78423336]\n"
          ]
        }
      ]
    },
    {
      "cell_type": "markdown",
      "source": [
        "(b) For the array: a = np.array([-1.8, -1.6, -0.5, 0.5,1.6, 1.8, 3.0]). Find floor, ceiling\n",
        "and truncated value, rounded values"
      ],
      "metadata": {
        "id": "TTqB29cmwb9D"
      }
    },
    {
      "cell_type": "code",
      "source": [
        "a = np.array([-1.8, -1.6, -0.5, 0.5, 1.6, 1.8, 3.0])\n",
        "\n",
        "# Floor values\n",
        "floor_values = np.floor(a)\n",
        "print(\"Floor values:\")\n",
        "print(floor_values)\n",
        "\n",
        "# Ceiling values\n",
        "ceiling_values = np.ceil(a)\n",
        "print(\"Ceiling values:\")\n",
        "print(ceiling_values)\n",
        "\n",
        "# Truncated values\n",
        "truncated_values = np.trunc(a)\n",
        "print(\"Truncated values:\")\n",
        "print(truncated_values)\n",
        "\n",
        "# Rounded values\n",
        "rounded_values = np.round(a)\n",
        "print(\"Rounded values:\")\n",
        "print(rounded_values)"
      ],
      "metadata": {
        "colab": {
          "base_uri": "https://localhost:8080/"
        },
        "id": "mB1auEQ4iXZN",
        "outputId": "a50548d6-e78f-49d7-9f5c-bc72d99c53c9"
      },
      "execution_count": null,
      "outputs": [
        {
          "output_type": "stream",
          "name": "stdout",
          "text": [
            "Floor values:\n",
            "[-2. -2. -1.  0.  1.  1.  3.]\n",
            "Ceiling values:\n",
            "[-1. -1. -0.  1.  2.  2.  3.]\n",
            "Truncated values:\n",
            "[-1. -1. -0.  0.  1.  1.  3.]\n",
            "Rounded values:\n",
            "[-2. -2. -0.  0.  2.  2.  3.]\n"
          ]
        }
      ]
    },
    {
      "cell_type": "markdown",
      "source": [
        "## Q3: Based on Searching and Sorting\n",
        "(a) For the array: array = np.array([10, 52, 62, 16, 16, 54, 453]), find\n",
        "i. Sorted array\n",
        "ii. Indices of sorted array\n",
        "iii. 4 smallest elements\n",
        "iv. 5 largest elements\n",
        "(b) For the array: array = np.array([1.0, 1.2, 2.2, 2.0, 3.0, 2.0]), find\n",
        "i. Integer elements only\n",
        "ii. Float elements only"
      ],
      "metadata": {
        "id": "H1kVyeU5wtGg"
      }
    },
    {
      "cell_type": "code",
      "source": [
        "array = np.array([10, 52, 62, 16, 16, 54, 453])\n",
        "\n",
        "# (i) Sorted array\n",
        "sorted_array = np.sort(array)\n",
        "print(\"Sorted array:\")\n",
        "print(sorted_array)\n",
        "\n",
        "# (ii) Indices of sorted array\n",
        "sorted_indices = np.argsort(array)\n",
        "print(\"Indices of sorted array:\")\n",
        "print(sorted_indices)\n",
        "\n",
        "# (iii) 4 smallest elements\n",
        "four_smallest = sorted_array[:4]\n",
        "print(\"4 smallest elements:\")\n",
        "print(four_smallest)\n",
        "\n",
        "# (iv) 5 largest elements\n",
        "five_largest = sorted_array[-5:]\n",
        "print(\"5 largest elements:\")\n",
        "print(five_largest)"
      ],
      "metadata": {
        "colab": {
          "base_uri": "https://localhost:8080/"
        },
        "id": "CMqqsTxwiZQ7",
        "outputId": "3b0234cd-1187-46dc-9143-077d4ffd3cef"
      },
      "execution_count": null,
      "outputs": [
        {
          "output_type": "stream",
          "name": "stdout",
          "text": [
            "Sorted array:\n",
            "[ 10  16  16  52  54  62 453]\n",
            "Indices of sorted array:\n",
            "[0 3 4 1 5 2 6]\n",
            "4 smallest elements:\n",
            "[10 16 16 52]\n",
            "5 largest elements:\n",
            "[ 16  52  54  62 453]\n"
          ]
        }
      ]
    },
    {
      "cell_type": "code",
      "source": [
        "array = np.array([1.0, 1.2, 2.2, 2.0, 3.0, 2.0])\n",
        "\n",
        "# (i) Integer elements only\n",
        "integer_elements = array[array == array.astype(int)]\n",
        "print(\"Integer elements only:\")\n",
        "print(integer_elements)\n",
        "\n",
        "# (ii) Float elements only\n",
        "float_elements = array[array != array.astype(int)]\n",
        "print(\"Float elements only:\")\n",
        "print(float_elements)"
      ],
      "metadata": {
        "colab": {
          "base_uri": "https://localhost:8080/"
        },
        "id": "nVFpLvUIiua_",
        "outputId": "870ede6e-b99d-41ea-a812-7093e30091fc"
      },
      "execution_count": null,
      "outputs": [
        {
          "output_type": "stream",
          "name": "stdout",
          "text": [
            "Integer elements only:\n",
            "[1. 2. 3. 2.]\n",
            "Float elements only:\n",
            "[1.2 2.2]\n"
          ]
        }
      ]
    },
    {
      "cell_type": "markdown",
      "source": [
        "Q4:\n",
        "(a) Write a function named img_to_array(path) that reads an image from a specified path and\n",
        "save it as text file on local machine? (Note: use separate cases for RGB and Grey Scale\n",
        "images)\n"
      ],
      "metadata": {
        "id": "nktZE9b_ww6K"
      }
    },
    {
      "cell_type": "code",
      "source": [
        "from PIL import Image\n",
        "import numpy as np\n",
        "\n",
        "def img_to_array(path):\n",
        "\n",
        "\n",
        "    img = Image.open(path)\n",
        "\n",
        "\n",
        "    img_array = np.array(img)\n",
        "\n",
        "    if len(img_array.shape) == 2:\n",
        "\n",
        "        image_type = 'Grayscale'\n",
        "    elif len(img_array.shape) == 3 and img_array.shape[2] == 3:\n",
        "\n",
        "        image_type = 'RGB'\n",
        "    else:\n",
        "        raise ValueError(\"Unsupported image format\")\n",
        "    print(image_type)\n",
        "\n",
        "    text_filename = path.rsplit('.', 1)[0] + '_array.txt'\n",
        "\n",
        "    with open(text_filename, 'w') as f:\n",
        "        if image_type == 'Grayscale':\n",
        "\n",
        "            np.savetxt(f, img_array, fmt='%d')\n",
        "        elif image_type == 'RGB':\n",
        "\n",
        "            img_array_flat = img_array.reshape(-1, img_array.shape[2])\n",
        "            np.savetxt(f, img_array_flat, fmt='%d', delimiter=',')\n",
        "\n",
        "    print(f\"Array saved to {text_filename}\")\n",
        "\n",
        "path = r'/content/8-bit City_1920x1080.jpg'\n",
        "\n",
        "\n",
        "img_to_array(path)\n"
      ],
      "metadata": {
        "colab": {
          "base_uri": "https://localhost:8080/"
        },
        "id": "sT2ExTTNi7D7",
        "outputId": "32fcb957-affc-40ee-f095-89026f74e69d"
      },
      "execution_count": null,
      "outputs": [
        {
          "output_type": "stream",
          "name": "stdout",
          "text": [
            "(1080, 1920, 3)\n",
            "RGB\n",
            "Array saved to /content/8-bit City_1920x1080_array.txt\n"
          ]
        }
      ]
    }
  ]
}